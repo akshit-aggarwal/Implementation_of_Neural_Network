{
 "cells": [
  {
   "cell_type": "code",
   "execution_count": 70,
   "metadata": {},
   "outputs": [],
   "source": [
    "import numpy as np\n",
    "import matplotlib.pyplot as plt\n",
    "import pandas as pd"
   ]
  },
  {
   "cell_type": "code",
   "execution_count": 71,
   "metadata": {},
   "outputs": [
    {
     "data": {
      "text/html": [
       "<div>\n",
       "<style scoped>\n",
       "    .dataframe tbody tr th:only-of-type {\n",
       "        vertical-align: middle;\n",
       "    }\n",
       "\n",
       "    .dataframe tbody tr th {\n",
       "        vertical-align: top;\n",
       "    }\n",
       "\n",
       "    .dataframe thead th {\n",
       "        text-align: right;\n",
       "    }\n",
       "</style>\n",
       "<table border=\"1\" class=\"dataframe\">\n",
       "  <thead>\n",
       "    <tr style=\"text-align: right;\">\n",
       "      <th></th>\n",
       "      <th>X1</th>\n",
       "      <th>X2</th>\n",
       "      <th>Y</th>\n",
       "    </tr>\n",
       "  </thead>\n",
       "  <tbody>\n",
       "    <tr>\n",
       "      <th>0</th>\n",
       "      <td>2.920979</td>\n",
       "      <td>3.544249</td>\n",
       "      <td>0</td>\n",
       "    </tr>\n",
       "    <tr>\n",
       "      <th>1</th>\n",
       "      <td>0.742667</td>\n",
       "      <td>2.142254</td>\n",
       "      <td>0</td>\n",
       "    </tr>\n",
       "    <tr>\n",
       "      <th>2</th>\n",
       "      <td>3.469450</td>\n",
       "      <td>0.523099</td>\n",
       "      <td>0</td>\n",
       "    </tr>\n",
       "    <tr>\n",
       "      <th>3</th>\n",
       "      <td>2.198026</td>\n",
       "      <td>0.831011</td>\n",
       "      <td>0</td>\n",
       "    </tr>\n",
       "    <tr>\n",
       "      <th>4</th>\n",
       "      <td>2.534893</td>\n",
       "      <td>4.095179</td>\n",
       "      <td>0</td>\n",
       "    </tr>\n",
       "    <tr>\n",
       "      <th>5</th>\n",
       "      <td>0.450534</td>\n",
       "      <td>4.000344</td>\n",
       "      <td>0</td>\n",
       "    </tr>\n",
       "    <tr>\n",
       "      <th>6</th>\n",
       "      <td>2.825632</td>\n",
       "      <td>2.946739</td>\n",
       "      <td>0</td>\n",
       "    </tr>\n",
       "    <tr>\n",
       "      <th>7</th>\n",
       "      <td>0.990503</td>\n",
       "      <td>2.180591</td>\n",
       "      <td>0</td>\n",
       "    </tr>\n",
       "    <tr>\n",
       "      <th>8</th>\n",
       "      <td>1.479519</td>\n",
       "      <td>0.187788</td>\n",
       "      <td>0</td>\n",
       "    </tr>\n",
       "    <tr>\n",
       "      <th>9</th>\n",
       "      <td>0.153424</td>\n",
       "      <td>2.265525</td>\n",
       "      <td>0</td>\n",
       "    </tr>\n",
       "    <tr>\n",
       "      <th>10</th>\n",
       "      <td>7.448641</td>\n",
       "      <td>5.572954</td>\n",
       "      <td>1</td>\n",
       "    </tr>\n",
       "    <tr>\n",
       "      <th>11</th>\n",
       "      <td>3.851136</td>\n",
       "      <td>1.680728</td>\n",
       "      <td>1</td>\n",
       "    </tr>\n",
       "    <tr>\n",
       "      <th>12</th>\n",
       "      <td>8.382613</td>\n",
       "      <td>5.990518</td>\n",
       "      <td>1</td>\n",
       "    </tr>\n",
       "    <tr>\n",
       "      <th>13</th>\n",
       "      <td>7.827148</td>\n",
       "      <td>8.485092</td>\n",
       "      <td>1</td>\n",
       "    </tr>\n",
       "    <tr>\n",
       "      <th>14</th>\n",
       "      <td>6.031630</td>\n",
       "      <td>7.810606</td>\n",
       "      <td>1</td>\n",
       "    </tr>\n",
       "    <tr>\n",
       "      <th>15</th>\n",
       "      <td>6.157369</td>\n",
       "      <td>0.211652</td>\n",
       "      <td>1</td>\n",
       "    </tr>\n",
       "    <tr>\n",
       "      <th>16</th>\n",
       "      <td>7.504646</td>\n",
       "      <td>1.760421</td>\n",
       "      <td>1</td>\n",
       "    </tr>\n",
       "    <tr>\n",
       "      <th>17</th>\n",
       "      <td>4.585142</td>\n",
       "      <td>5.131227</td>\n",
       "      <td>1</td>\n",
       "    </tr>\n",
       "    <tr>\n",
       "      <th>18</th>\n",
       "      <td>4.840209</td>\n",
       "      <td>8.443858</td>\n",
       "      <td>1</td>\n",
       "    </tr>\n",
       "    <tr>\n",
       "      <th>19</th>\n",
       "      <td>1.748139</td>\n",
       "      <td>0.146349</td>\n",
       "      <td>1</td>\n",
       "    </tr>\n",
       "  </tbody>\n",
       "</table>\n",
       "</div>"
      ],
      "text/plain": [
       "          X1        X2  Y\n",
       "0   2.920979  3.544249  0\n",
       "1   0.742667  2.142254  0\n",
       "2   3.469450  0.523099  0\n",
       "3   2.198026  0.831011  0\n",
       "4   2.534893  4.095179  0\n",
       "5   0.450534  4.000344  0\n",
       "6   2.825632  2.946739  0\n",
       "7   0.990503  2.180591  0\n",
       "8   1.479519  0.187788  0\n",
       "9   0.153424  2.265525  0\n",
       "10  7.448641  5.572954  1\n",
       "11  3.851136  1.680728  1\n",
       "12  8.382613  5.990518  1\n",
       "13  7.827148  8.485092  1\n",
       "14  6.031630  7.810606  1\n",
       "15  6.157369  0.211652  1\n",
       "16  7.504646  1.760421  1\n",
       "17  4.585142  5.131227  1\n",
       "18  4.840209  8.443858  1\n",
       "19  1.748139  0.146349  1"
      ]
     },
     "execution_count": 71,
     "metadata": {},
     "output_type": "execute_result"
    }
   ],
   "source": [
    "X = np.vstack([(np.random.rand(10, 2)*5),(np.random.rand(10, 2)*10)])\n",
    "Y = np.hstack([[0]*10 , [1]*10])\n",
    "df = pd.DataFrame(X,columns=[\"X1\",\"X2\"])\n",
    "df[\"Y\"] = Y\n",
    "df"
   ]
  },
  {
   "cell_type": "code",
   "execution_count": 72,
   "metadata": {},
   "outputs": [],
   "source": [
    "# converting Target Variable to vector of number of classes\n",
    "Z = np.zeros((20,2))\n",
    "for i in range(20):\n",
    "    Z[i, Y[i]] = 1"
   ]
  },
  {
   "cell_type": "code",
   "execution_count": 73,
   "metadata": {},
   "outputs": [
    {
     "data": {
      "text/plain": [
       "(20, 2)"
      ]
     },
     "execution_count": 73,
     "metadata": {},
     "output_type": "execute_result"
    }
   ],
   "source": [
    "X.shape"
   ]
  },
  {
   "cell_type": "code",
   "execution_count": 74,
   "metadata": {},
   "outputs": [],
   "source": [
    "# initiating Random Weights and Bias\n",
    "W1_1 = np.random.randn(3,2)\n",
    "B1_1 = np.random.randn(3)\n",
    "W1_2 = np.random.randn(3,2)\n",
    "B1_2 = np.random.randn(2)\n"
   ]
  },
  {
   "cell_type": "code",
   "execution_count": 75,
   "metadata": {},
   "outputs": [
    {
     "data": {
      "text/plain": [
       "array([[ 0.46088845,  0.66237401],\n",
       "       [-2.29510333, -1.19592931],\n",
       "       [-0.33310116, -0.79139077]])"
      ]
     },
     "execution_count": 75,
     "metadata": {},
     "output_type": "execute_result"
    }
   ],
   "source": [
    "W1_1"
   ]
  },
  {
   "cell_type": "code",
   "execution_count": 76,
   "metadata": {},
   "outputs": [
    {
     "data": {
      "text/plain": [
       "array([0.60319905, 1.00686114])"
      ]
     },
     "execution_count": 76,
     "metadata": {},
     "output_type": "execute_result"
    }
   ],
   "source": [
    "B1_2"
   ]
  },
  {
   "cell_type": "code",
   "execution_count": 77,
   "metadata": {},
   "outputs": [
    {
     "data": {
      "text/plain": [
       "array([[ 0.61229731,  1.10012937],\n",
       "       [ 0.56435253, -0.71279944],\n",
       "       [-0.26085948,  0.54842807]])"
      ]
     },
     "execution_count": 77,
     "metadata": {},
     "output_type": "execute_result"
    }
   ],
   "source": [
    "W1_2"
   ]
  },
  {
   "cell_type": "code",
   "execution_count": 78,
   "metadata": {},
   "outputs": [
    {
     "data": {
      "text/plain": [
       "array([0.60319905, 1.00686114])"
      ]
     },
     "execution_count": 78,
     "metadata": {},
     "output_type": "execute_result"
    }
   ],
   "source": [
    "B1_2"
   ]
  },
  {
   "cell_type": "code",
   "execution_count": 79,
   "metadata": {},
   "outputs": [
    {
     "data": {
      "text/plain": [
       "array([[ 0.46088845, -2.29510333, -0.33310116],\n",
       "       [ 0.66237401, -1.19592931, -0.79139077]])"
      ]
     },
     "execution_count": 79,
     "metadata": {},
     "output_type": "execute_result"
    }
   ],
   "source": [
    "W1_1.T"
   ]
  },
  {
   "cell_type": "code",
   "execution_count": 80,
   "metadata": {},
   "outputs": [
    {
     "data": {
      "text/plain": [
       "array([[  3.69386407, -10.94262038,  -3.7778676 ],\n",
       "       [  1.76125994,  -4.26648208,  -1.94274313],\n",
       "       [  1.94551659,  -8.5883361 ,  -1.56965344],\n",
       "       [  1.56348481,  -6.03852732,  -1.38981931],\n",
       "       [  3.88084333, -10.71538668,  -4.08526297],\n",
       "       [  2.85736951,  -5.81814968,  -3.31590842],\n",
       "       [  3.25414409, -10.0092079 ,  -3.27324293],\n",
       "       [  1.90087852,  -4.88114041,  -2.05563761],\n",
       "       [  0.80627928,  -3.62023018,  -0.64144343],\n",
       "       [  1.57133633,  -3.06153215,  -1.84402136],\n",
       "       [  7.12437246, -23.76025934,  -6.89153531],\n",
       "       [  2.88821464, -10.84878689,  -2.61293048],\n",
       "       [  7.83141305, -26.40319951,  -7.53309884],\n",
       "       [  9.22774652, -28.11168387,  -9.32225551],\n",
       "       [  7.95345105, -23.1841464 ,  -8.19038452],\n",
       "       [  2.97805288, -14.38491826,  -2.21852606],\n",
       "       [  4.62486207, -19.32927773,  -3.89298753],\n",
       "       [  5.51203049, -16.65995968,  -5.5881219 ],\n",
       "       [  7.82378845, -21.20703678,  -8.29467046],\n",
       "       [  0.90263466,  -4.18718228,  -0.69812617]])"
      ]
     },
     "execution_count": 80,
     "metadata": {},
     "output_type": "execute_result"
    }
   ],
   "source": [
    "X.dot(W1_1.T)"
   ]
  },
  {
   "cell_type": "code",
   "execution_count": 81,
   "metadata": {},
   "outputs": [],
   "source": [
    "# forward propagation\n",
    "def fop(X,W1_1,B1_1,W1_2,B1_2):\n",
    "    M = 1 / (1 * np.exp(-(X.dot(W1_1.T) + B1_1)))\n",
    "    A = M.dot(W1_2) + B1_2\n",
    "    expA = np.exp(A)\n",
    "    Y = expA / expA.sum(axis=1, keepdims=True)\n",
    "    return Y, M"
   ]
  },
  {
   "cell_type": "code",
   "execution_count": 82,
   "metadata": {},
   "outputs": [
    {
     "name": "stderr",
     "output_type": "stream",
     "text": [
      "C:\\Users\\Akshit\\anaconda3\\lib\\site-packages\\ipykernel_launcher.py:5: RuntimeWarning: overflow encountered in exp\n",
      "  \"\"\"\n",
      "C:\\Users\\Akshit\\anaconda3\\lib\\site-packages\\ipykernel_launcher.py:6: RuntimeWarning: invalid value encountered in true_divide\n",
      "  \n"
     ]
    },
    {
     "data": {
      "text/plain": [
       "(array([[4.16688278e-12, 1.00000000e+00],\n",
       "        [1.55421121e-02, 9.84457888e-01],\n",
       "        [7.21618755e-03, 9.92783812e-01],\n",
       "        [2.92345469e-02, 9.70765453e-01],\n",
       "        [2.07369805e-14, 1.00000000e+00],\n",
       "        [9.32702951e-06, 9.99990673e-01],\n",
       "        [4.02587935e-08, 9.99999960e-01],\n",
       "        [8.91737269e-03, 9.91082627e-01],\n",
       "        [1.30406090e-01, 8.69593910e-01],\n",
       "        [2.98958400e-02, 9.70104160e-01],\n",
       "        [           nan,            nan],\n",
       "        [6.52185852e-06, 9.99993478e-01],\n",
       "        [           nan,            nan],\n",
       "        [           nan,            nan],\n",
       "        [           nan,            nan],\n",
       "        [2.19581914e-06, 9.99997804e-01],\n",
       "        [2.51095287e-29, 1.00000000e+00],\n",
       "        [6.38430788e-70, 1.00000000e+00],\n",
       "        [           nan,            nan],\n",
       "        [1.14321155e-01, 8.85678845e-01]]),\n",
       " array([[5.28806165e+01, 1.05695820e-05, 4.13222698e-03],\n",
       "        [7.65556410e+00, 8.38431985e-03, 2.58921790e-02],\n",
       "        [9.20447128e+00, 1.11303926e-04, 3.76009999e-02],\n",
       "        [6.28180642e+00, 1.42520838e-03, 4.50091037e-02],\n",
       "        [6.37529919e+01, 1.32661271e-05, 3.03867361e-03],\n",
       "        [2.29092850e+01, 1.77658978e-03, 6.55859015e-03],\n",
       "        [3.40665810e+01, 2.68802748e-05, 6.84447088e-03],\n",
       "        [8.80263668e+00, 4.53445520e-03, 2.31280571e-02],\n",
       "        [2.94601102e+00, 1.60004233e-02, 9.51296460e-02],\n",
       "        [6.33132229e+00, 2.79750546e-02, 2.85787297e-02],\n",
       "        [1.63360619e+03, 2.86700164e-11, 1.83626546e-04],\n",
       "        [2.36269361e+01, 1.16093841e-05, 1.32467680e-02],\n",
       "        [3.31292191e+03, 2.03992222e-12, 9.66736160e-05],\n",
       "        [1.33853928e+04, 3.69511774e-13, 1.61542609e-05],\n",
       "        [3.74292934e+03, 5.10070977e-11, 5.01016949e-05],\n",
       "        [2.58478045e+01, 3.38132439e-07, 1.96515855e-02],\n",
       "        [1.34160232e+02, 2.40867832e-09, 3.68288550e-03],\n",
       "        [3.25773800e+02, 3.47575300e-08, 6.76084088e-04],\n",
       "        [3.28775826e+03, 3.68365042e-10, 4.51400058e-05],\n",
       "        [3.24400100e+00, 9.07626783e-03, 8.98874126e-02]]))"
      ]
     },
     "execution_count": 82,
     "metadata": {},
     "output_type": "execute_result"
    }
   ],
   "source": [
    "fop(X,W1_1,B1_1,W1_2,B1_2)"
   ]
  },
  {
   "cell_type": "code",
   "execution_count": 83,
   "metadata": {},
   "outputs": [],
   "source": [
    "# backpropagation\n",
    "def diff_W1_2(H, Z, Y):\n",
    "    return H.T.dot(Z - Y)"
   ]
  },
  {
   "cell_type": "code",
   "execution_count": 84,
   "metadata": {},
   "outputs": [],
   "source": [
    "def diff_W1_1(X,H,Z,output, W1_2):\n",
    "    dZ = (Z - output).dot(W1_2.T) * H * (1-H)\n",
    "    return X.T.dot(dZ)"
   ]
  },
  {
   "cell_type": "code",
   "execution_count": 85,
   "metadata": {},
   "outputs": [],
   "source": [
    "def diff_B2(Z, Y):\n",
    "    return (Z - Y).sum(axis=0)\n",
    "\n",
    "def diff_B1(Z, Y, W1_2, H):\n",
    "    return ((Z - Y).dot(W1_2.T) * H * (1 - H)).sum(axis=0)"
   ]
  },
  {
   "cell_type": "code",
   "execution_count": 86,
   "metadata": {},
   "outputs": [
    {
     "name": "stderr",
     "output_type": "stream",
     "text": [
      "C:\\Users\\Akshit\\anaconda3\\lib\\site-packages\\ipykernel_launcher.py:5: RuntimeWarning: overflow encountered in exp\n",
      "  \"\"\"\n",
      "C:\\Users\\Akshit\\anaconda3\\lib\\site-packages\\ipykernel_launcher.py:6: RuntimeWarning: invalid value encountered in true_divide\n",
      "  \n"
     ]
    },
    {
     "ename": "ValueError",
     "evalue": "operands could not be broadcast together with shapes (2,) (3,) (2,) ",
     "output_type": "error",
     "traceback": [
      "\u001b[1;31m---------------------------------------------------------------------------\u001b[0m",
      "\u001b[1;31mValueError\u001b[0m                                Traceback (most recent call last)",
      "\u001b[1;32m<ipython-input-86-cca62a35f933>\u001b[0m in \u001b[0;36m<module>\u001b[1;34m\u001b[0m\n\u001b[0;32m      5\u001b[0m     \u001b[0mB1_2\u001b[0m \u001b[1;33m+=\u001b[0m \u001b[0mlearning_rate\u001b[0m \u001b[1;33m+\u001b[0m \u001b[0mdiff_B2\u001b[0m\u001b[1;33m(\u001b[0m\u001b[0mZ\u001b[0m\u001b[1;33m,\u001b[0m \u001b[0moutput\u001b[0m\u001b[1;33m)\u001b[0m\u001b[1;33m\u001b[0m\u001b[1;33m\u001b[0m\u001b[0m\n\u001b[0;32m      6\u001b[0m     \u001b[0mW1_1\u001b[0m \u001b[1;33m+=\u001b[0m \u001b[0mlearning_rate\u001b[0m \u001b[1;33m+\u001b[0m \u001b[0mdiff_W1_1\u001b[0m\u001b[1;33m(\u001b[0m\u001b[0mX\u001b[0m\u001b[1;33m,\u001b[0m \u001b[0mhidden\u001b[0m\u001b[1;33m,\u001b[0m \u001b[0mZ\u001b[0m\u001b[1;33m,\u001b[0m \u001b[0moutput\u001b[0m\u001b[1;33m,\u001b[0m \u001b[0mW1_2\u001b[0m\u001b[1;33m)\u001b[0m\u001b[1;33m.\u001b[0m\u001b[0mT\u001b[0m\u001b[1;33m\u001b[0m\u001b[1;33m\u001b[0m\u001b[0m\n\u001b[1;32m----> 7\u001b[1;33m     \u001b[0mB1_2\u001b[0m \u001b[1;33m+=\u001b[0m \u001b[0mlearning_rate\u001b[0m \u001b[1;33m+\u001b[0m \u001b[0mdiff_B1\u001b[0m\u001b[1;33m(\u001b[0m\u001b[0mZ\u001b[0m\u001b[1;33m,\u001b[0m \u001b[0moutput\u001b[0m\u001b[1;33m,\u001b[0m \u001b[0mW1_2\u001b[0m\u001b[1;33m,\u001b[0m \u001b[0mhidden\u001b[0m\u001b[1;33m)\u001b[0m\u001b[1;33m\u001b[0m\u001b[1;33m\u001b[0m\u001b[0m\n\u001b[0m",
      "\u001b[1;31mValueError\u001b[0m: operands could not be broadcast together with shapes (2,) (3,) (2,) "
     ]
    }
   ],
   "source": [
    "learning_rate = 1e-3\n",
    "for epoc in range(5000):\n",
    "    output, hidden = fop(X,W1_1,B1_1,W1_2,B1_2)\n",
    "    W1_2 += learning_rate + diff_W1_2(hidden, Z, output)\n",
    "    B1_2 += learning_rate + diff_B2(Z, output)\n",
    "    W1_1 += learning_rate + diff_W1_1(X, hidden, Z, output, W1_2).T\n",
    "    B1_2 += learning_rate + diff_B1(Z, output, W1_2, hidden)"
   ]
  }
 ],
 "metadata": {
  "kernelspec": {
   "display_name": "Python 3",
   "language": "python",
   "name": "python3"
  },
  "language_info": {
   "codemirror_mode": {
    "name": "ipython",
    "version": 3
   },
   "file_extension": ".py",
   "mimetype": "text/x-python",
   "name": "python",
   "nbconvert_exporter": "python",
   "pygments_lexer": "ipython3",
   "version": "3.7.6"
  }
 },
 "nbformat": 4,
 "nbformat_minor": 4
}
